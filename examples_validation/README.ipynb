{
 "cells": [
  {
   "cell_type": "markdown",
   "id": "165ec0ee",
   "metadata": {},
   "source": [
    "# PyConduct\n",
    "\n",
    "*Pablo Pacheco Pérez*\n",
    "\n",
    "## Description\n",
    "\n",
    "Python version of the old Patankar book:\n",
    "\n",
    "<img src = \"CONDUCT.jpg\" width = \"300\">\n",
    "\n",
    "*Patankar, S. V. (1991). Computation of conduction and duct flow heat transfer. CRC press.*\n",
    "\n",
    "- Code to teach undergraduate students the Finite Volume Method.\n",
    "- Ideal for basic courses on heat transfer and transport phenomena.\n",
    "- Review the **examples** and **validations** to get started.\n",
    "\n",
    "About the **original** Patankar code:\n",
    "\n",
    "- Written in **FORTRAN77**. Very old and obsolete, but it's native code (computes very fast).\n",
    "- Two spatial dimensions: cartesian coordinates $\\left(X,Y\\right)$, polar coordinates $\\left(\\theta,R\\right)$ and cylindrical coordinates $\\left(R,Z\\right)$.\n",
    "- Solves the transient diffusion equation with multiple coupled scalars.\n",
    "- Variables are stored in **two-dimensional arrays**.\n",
    "- Only one solver (**TDMA**).\n",
    "- Properties and boundary conditions can be nonlinear, dependent on scalar(s), space, time, etc.\n",
    "\n",
    "About **PyConduct**:\n",
    "\n",
    "- Written in **Python**. You can take advantage of the whole universe of this language!\n",
    "- Accelerated with **numba** (just-in-time compilation). It doesn't achieve the same speed as the original, but it's quite - acceptable.\n",
    "- Only Cartesian coordinates.\n",
    "- Solves the transient diffusion equation with a single scalar (more scalars could be included later).\n",
    "- Variables are stored in **vectors**.\n",
    "- Matrices are stored in **CSR** format, allowing the use of very fast external solvers. The solvers from scipy.sparse are implemented (**Direct**, **CG**, **GMRES**, **LGMRES**, **MINRES**, **QMR**).\n",
    "- Properties and boundary conditions can be nonlinear, dependent on scalar(s), space, time, etc.\n",
    "- It can export results to files and post-process them in Tecplot, Python, or your favorite library.\n",
    "- The calculations are separated into functions. Students can take advantage of this level of abstraction and make modifications much easier than in the original code, which is written sequentially and uses common variables."
   ]
  },
  {
   "cell_type": "markdown",
   "id": "1639fafd",
   "metadata": {},
   "source": [
    "## Requirements\n",
    "\n",
    "The code works for me with the following:\n",
    "\n",
    "- python 3.7.0  \n",
    "- numpy 1.21.5    \n",
    "- scipy 1.4.1\n",
    "- numba 0.55.1 \n",
    "- matplotlib 3.5.3 "
   ]
  },
  {
   "cell_type": "markdown",
   "id": "25263c91",
   "metadata": {},
   "source": [
    "## About the Method\n",
    "\n",
    "PyConduct solves the diffusion equation in Cartesian coordinates:\n",
    "\n",
    "$$\\frac{\\partial{\\left(\\lambda\\phi\\right)}}{\\partial{t}}=\\frac{\\partial{}}{\\partial{y}} \\left(\\Gamma\\frac{\\partial{\\phi}}{\\partial{y}}\\right)+\\frac{\\partial{}}{\\partial{x}}\\left(\\Gamma\\frac{\\partial{\\phi}}{\\partial{x}}\\right) + \\left[S_c + S_p \\phi\\right]$$\n",
    "\n",
    "- The equation is discretized using the Finite Volume Method, as described in the original book.\n",
    "- Familiarity with the original book is recommended to use PyConduct effectively."
   ]
  }
 ],
 "metadata": {
  "kernelspec": {
   "display_name": "entornogpu",
   "language": "python",
   "name": "entornogpu"
  },
  "language_info": {
   "codemirror_mode": {
    "name": "ipython",
    "version": 3
   },
   "file_extension": ".py",
   "mimetype": "text/x-python",
   "name": "python",
   "nbconvert_exporter": "python",
   "pygments_lexer": "ipython3",
   "version": "3.7.0"
  }
 },
 "nbformat": 4,
 "nbformat_minor": 5
}
