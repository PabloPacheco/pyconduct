{
 "cells": [
  {
   "cell_type": "markdown",
   "id": "93b416ac",
   "metadata": {},
   "source": [
    "# Case 1\n",
    "\n",
    "## 2D Plate\n",
    "\n",
    "The calculation of a two-dimensional plate is performed below, with the conditions shown in the figure:\n",
    "\n",
    "<img src = \"placa2DFVM.svg\" width = \"600\">\n",
    "\n",
    "In **a)**, the complete physical situation is shown. The simulation will be executed with the conditions shown in **b)**, taking advantage of the symmetry of the problem.\n",
    "\n",
    "First, the necessary libraries are imported, including the file pyconduct.py, as \"pyc\"."
   ]
  },
  {
   "cell_type": "code",
   "execution_count": 20,
   "id": "f21eb849",
   "metadata": {},
   "outputs": [],
   "source": [
    "import numpy as np\n",
    "import pyconduct as pyc\n",
    "from numba import jit\n",
    "from scipy.interpolate import griddata\n",
    "import matplotlib.pyplot as plt"
   ]
  },
  {
   "cell_type": "markdown",
   "id": "57e3d0fb",
   "metadata": {},
   "source": [
    "An object of the PyConduct class is created:"
   ]
  },
  {
   "cell_type": "code",
   "execution_count": 21,
   "id": "25c13eed",
   "metadata": {},
   "outputs": [],
   "source": [
    "c = pyc.PyConduct()"
   ]
  },
  {
   "cell_type": "markdown",
   "id": "36bfa8b4",
   "metadata": {},
   "source": [
    "Once the object \"c\" is created, it will have several parameters internally defined by default. The necessary modifications will be made to implement the problem, starting with the geometry. Similar to the old CONDUCT, the length in the X and Y directions and the number of control volumes in those directions are defined. After that, the set_default() method of the class is executed. This way, all the vectors and matrices necessary for the calculation will be initialized."
   ]
  },
  {
   "cell_type": "code",
   "execution_count": 22,
   "id": "5a7ea1d3",
   "metadata": {},
   "outputs": [],
   "source": [
    "c.lx = 0.5\n",
    "c.ly = 1.\n",
    "c.ncvx = 10\n",
    "c.ncvy = 20\n",
    "\n",
    "c.set_default()"
   ]
  },
  {
   "cell_type": "markdown",
   "id": "7109c3f5",
   "metadata": {},
   "source": [
    "The variable $\\phi$ is initialized to a value \"t0\". PyConduct only performs transient simulations. The current case reaches a steady state with a timeEnd of 1 and a time step dt of one second."
   ]
  },
  {
   "cell_type": "code",
   "execution_count": 23,
   "id": "035a424e",
   "metadata": {},
   "outputs": [],
   "source": [
    "t0 = 0.\n",
    "c.phi[:] = t0\n",
    "c.timeEnd = 1.\n",
    "c.dt = 1."
   ]
  },
  {
   "cell_type": "markdown",
   "id": "bedd00e8",
   "metadata": {},
   "source": [
    "The mesh is created using the following method of the PyConduct class:"
   ]
  },
  {
   "cell_type": "code",
   "execution_count": 24,
   "id": "91c0f8f4",
   "metadata": {},
   "outputs": [],
   "source": [
    "c.meshing()"
   ]
  },
  {
   "cell_type": "markdown",
   "id": "ff3af534",
   "metadata": {},
   "source": [
    "The mesh can be visually inspected:\n",
    "\n",
    "xc, yc: cell center coordinates\n",
    "xv, yv: cell vertex coordinates\n",
    "xf, yf: cell face center coordinates"
   ]
  },
  {
   "cell_type": "code",
   "execution_count": 25,
   "id": "b2f0e925",
   "metadata": {},
   "outputs": [
    {
     "data": {
      "image/png": "[encoded data removed]",
      "text/plain": [
       "<Figure size 300x600 with 1 Axes>"
      ]
     },
     "metadata": {},
     "output_type": "display_data"
    }
   ],
   "source": [
    "sss = [9, 8, 7]\n",
    "ccc = [\"black\", \"red\", \"blue\"]\n",
    "plt.figure(figsize = (3, 6))\n",
    "plt.scatter(c.xc, c.yc, marker = \"o\", label = \"Cell center\", s = sss[0], c = ccc[0])\n",
    "plt.scatter(c.xv, c.yv, marker = \"^\", label = \"Cell vertex\", s = sss[1], c = ccc[1])\n",
    "plt.scatter(c.xf, c.yf, marker = \"x\", label = \"Cell face center\", s = sss[2], c = ccc[2])\n",
    "plt.legend(loc = \"best\")\n",
    "plt.axis('off')\n",
    "plt.xticks([])\n",
    "plt.yticks([])\n",
    "plt.grid(False)\n",
    "plt.show()"
   ]
  },
  {
   "cell_type": "markdown",
   "id": "21300f15",
   "metadata": {},
   "source": [
    "Similar to the old CONDUCT, in PyConduct, the properties ($\\lambda$ and $\\Gamma$) of the diffusion equation are established using functions. The gammaUSER and lambUSER functions allow creating variable properties that depend on the scalar variable $\\phi$ and the space (xc and yc). In this case, the properties are constants with a value of 1. Don't forget to add the @jit decorator to obtain accelerated calculation."
   ]
  },
  {
   "cell_type": "code",
   "execution_count": 26,
   "id": "99796b78",
   "metadata": {},
   "outputs": [],
   "source": [
    "@jit\n",
    "def gammaUSER(t, xc, yc):\n",
    "    gam = 1.\n",
    "    return gam\n",
    "\n",
    "@jit\n",
    "def lambUSER(t, xc, yc):\n",
    "    lamb = 1.\n",
    "    return lamb"
   ]
  },
  {
   "cell_type": "markdown",
   "id": "28cf24c1",
   "metadata": {},
   "source": [
    "The following function allows setting the source terms for the boundary conditions, defining the values of $S_c$ and $S_p$. The most commonly used conditions in heat transfer problems are provided as examples:\n",
    "\n",
    "Dirichlet (known temperature at the boundary):\n",
    "\n",
    "$$ S_C = T_B \\frac{k_B}{\\delta x_B} A_B \\quad \\quad S_P = -\\frac{k_B}{\\delta x_B} A_B $$\n",
    "\n",
    "Newman (known heat flux):\n",
    "\n",
    "$$ S_C = q_B A_B \\,  \\quad \\quad S_P = 0 $$\n",
    "\n",
    "Robin (convection):\n",
    "\n",
    "$$ S_C = \\left(\\frac{h_B \\frac{k_B}{\\delta x_B}}{h_B + \\frac{k_B}{\\delta x_B}}\\right) T_{\\infty} A_B \\quad \\quad S_P = -\\left(\\frac{h_B \\frac{k_B}{\\delta x_B}}{h_B +\\frac{k_B}{\\delta x_B}}\\right) A_B $$\n",
    "\n",
    "The input variables of the function are:\n",
    "\n",
    "- b: edge index\n",
    "    - b == 1: bottom edge,\n",
    "    - b == 2: right edge,\n",
    "    - b == 3: top edge, and\n",
    "    - b == 4: left edge.\n",
    "- c: cell index\n",
    "- f: face index\n",
    "- i: connectivity index\n",
    "- xf, yf: face center node coordinates\n",
    "- timer: time\n",
    "- $\\Gamma$, $k_B$: gamma[c], diffusion coefficient\n",
    "- $\\lambda$: lamb\n",
    "- Node distance from internal node to the edge $\\delta x$: ndist[i], dx\n",
    "- Cell volume $V$: cvol[c]\n",
    "- Volume-edge interface area $A_B$: af[f], area"
   ]
  },
  {
   "cell_type": "code",
   "execution_count": 27,
   "id": "6cc6d6f8",
   "metadata": {},
   "outputs": [],
   "source": [
    "@jit\n",
    "def sourcesBound(b, c, f, i, ndist, cvol, af, gamma, lamb, xf, yf, timer):\n",
    "    #- 3: N\n",
    "    #- 1: S\n",
    "    #- 2: E\n",
    "    #- 4: W\n",
    "    gam = gamma[c]\n",
    "    dx = ndist[i]\n",
    "    vol = cvol[c]\n",
    "    area = af[f]\n",
    "    tb1 = 1.\n",
    "    tb0 = 0.\n",
    "    \n",
    "    if(b == 1):\n",
    "        scb = tb0 * gam / dx * area\n",
    "        spb = - gam / dx * area\n",
    "    elif(b == 2):\n",
    "        scb = 0.\n",
    "        spb = 0.\n",
    "    elif(b == 3):\n",
    "        scb = tb1 * gam / dx * area\n",
    "        spb = - gam / dx * area\n",
    "    elif(b == 4):\n",
    "        scb = tb0 * gam / dx * area\n",
    "        spb = - gam / dx * area\n",
    "    else:\n",
    "        scb = 0.\n",
    "        spb = 0.\n",
    "    return scb, spb\n"
   ]
  },
  {
   "cell_type": "markdown",
   "id": "4f198cd7",
   "metadata": {},
   "source": [
    "The sourcesVol function allows the user to define volumetric source terms. These source terms can depend on:\n",
    "\n",
    "- c: cell index\n",
    "- vol: cell volume\n",
    "- xc, yc: cell center coordinates\n",
    "- phi: calculated scalar\n",
    "- timer: time\n",
    "\n",
    "The unsteadySources function allows defining the terms for the discretization of the transient term:\n",
    "\n",
    "- phi: calculated scalar\n",
    "- phi1: scalar from the previous time step\n",
    "- phi2: scalar from the time step before phi1\n",
    "- lamb: property\n",
    "- dt: time step\n",
    "- cvol: cell volume\n",
    "- c: cell index\n",
    "- titer: time step counter"
   ]
  },
  {
   "cell_type": "code",
   "execution_count": 28,
   "id": "51f0f191",
   "metadata": {},
   "outputs": [],
   "source": [
    "@jit\n",
    "def sourcesVol(c, vol, phi, xc, yc, timer):\n",
    "    scv = 0.\n",
    "    spv = 0.\n",
    "    return scv, spv\n",
    "\n",
    "\n",
    "@jit              \n",
    "def unsteadySources(phi, phi1, phi2, lamb, dt, cvol, c, titer):\n",
    "    vol = cvol[c]\n",
    "    #Euler\n",
    "    ap0 = lamb[c] / dt * vol\n",
    "    apts = -ap0 \n",
    "    acts = ap0 * phi1[c]\n",
    "    return apts, acts"
   ]
  },
  {
   "cell_type": "markdown",
   "id": "98d42e57",
   "metadata": {},
   "source": [
    "The names of the user-created functions mentioned above should be provided to the PyConduct class; otherwise, default internal functions will be executed."
   ]
  },
  {
   "cell_type": "code",
   "execution_count": 29,
   "id": "8dc1af37",
   "metadata": {},
   "outputs": [],
   "source": [
    "c.gammaFunction = gammaUSER\n",
    "c.lambFunction = lambUSER\n",
    "c.unsteadySourcesFunction = unsteadySources\n",
    "c.sourcesVolFunction = sourcesVol\n",
    "c.sourcesBoundFunction = sourcesBound"
   ]
  },
  {
   "cell_type": "markdown",
   "id": "db1806b3",
   "metadata": {},
   "source": [
    "Reports:\n",
    "\n",
    "- sol: select the solver for the discretized equation system:\n",
    "    - 1: direct method\n",
    "    - 2: CG\n",
    "    - 3: GMRES\n",
    "    - 4: LGMRES\n",
    "    - 5: MINRES\n",
    "    - 6: QMR\n",
    "- reportBlackW: frequency of displaying a report on the screen after a certain number of time steps, including:\n",
    "- time: time\n",
    "- iter_t: number of iterations in the transient process\n",
    "- nl_iter: number of iterations to solve the nonlinearity of the problem\n",
    "- errNl: convergence of iterations due to nonlinearity\n",
    "- reportContour: number of time steps to display a contour report of $\\phi$ on the screen"
   ]
  },
  {
   "cell_type": "code",
   "execution_count": 30,
   "id": "cac8727f",
   "metadata": {},
   "outputs": [],
   "source": [
    "c.sol = 1\n",
    "c.reportBlackW = 1\n",
    "c.reportContour = 1"
   ]
  },
  {
   "cell_type": "markdown",
   "id": "e8912d4a",
   "metadata": {},
   "source": [
    "Start the simulation with the run_simulation() method of the class.\n",
    "\n",
    "*PyConduct uses Numba to accelerate the calculation. Python is an interpreted and slow language for scientific computation. Numba is a just-in-time (JIT) compiler for Python that aims to accelerate numerical computations. When Numba encounters a decorated function, it needs to compile it before executing it. This incurs additional time for compilation during the first execution. However, once the function is compiled, subsequent executions will be much faster since there is no need to recompile it. Therefore, the first execution may be slower, but subsequent executions will benefit from the acceleration provided by Numba.*"
   ]
  },
  {
   "cell_type": "code",
   "execution_count": 31,
   "id": "c9f49cc9",
   "metadata": {},
   "outputs": [
    {
     "data": {
      "image/png": "[encoded data removed]",
      "text/plain": [
       "<Figure size 640x480 with 2 Axes>"
      ]
     },
     "metadata": {},
     "output_type": "display_data"
    },
    {
     "name": "stdout",
     "output_type": "stream",
     "text": [
      "time = 1.0  iter_t = 1  nl_iter = 1  errNl = 0.0\n",
      "calculation complete\n"
     ]
    }
   ],
   "source": [
    "c.run_simulation()"
   ]
  },
  {
   "cell_type": "markdown",
   "id": "0816ef38",
   "metadata": {},
   "source": [
    "After the simulation is completed, a file named contour_0.0.dat is created. This file can be used to plot a contour of $\\phi$."
   ]
  },
  {
   "cell_type": "code",
   "execution_count": 32,
   "id": "d4abfbc1",
   "metadata": {},
   "outputs": [
    {
     "data": {
      "image/png": "[encoded data removed]",
      "text/plain": [
       "<Figure size 640x480 with 2 Axes>"
      ]
     },
     "metadata": {},
     "output_type": "display_data"
    }
   ],
   "source": [
    "name = \"contour_0.0.dat\"\n",
    "cmapStyle = \"jet\"\n",
    "\n",
    "data = np.loadtxt(name, skiprows=3)    \n",
    "gx, gy = np.mgrid[0:c.lx:150j,0:c.ly:150j]\n",
    "grid_Z = griddata(data[:,0:2], data[:,2], (gx, gy), method='linear')\n",
    "plt.imshow(grid_Z.T, extent=(0,c.lx,0,c.ly), origin = 'lower', cmap = cmapStyle, vmax = 1., vmin = 0.)\n",
    "plt.colorbar()\n",
    "plt.axis('off')\n",
    "plt.xticks([])\n",
    "plt.yticks([])\n",
    "plt.grid(False)\n",
    "#guardar figura\n",
    "plt.savefig(\"contour.png\", dpi = 150, bbox_inches = \"tight\")"
   ]
  },
  {
   "cell_type": "markdown",
   "id": "fccb1ef7",
   "metadata": {},
   "source": [
    "**Validation**\n",
    "\n",
    "The exact solution is used to validate the results of the simulation. The following equation is implemented using a function with 90 terms of the series. The results of the analytical solution are compared with the numerical results obtained with PyConduct, calculating the mean squared error."
   ]
  },
  {
   "cell_type": "markdown",
   "id": "0d293b42",
   "metadata": {},
   "source": [
    "$$ \\theta(x, y) = \\frac{2}{\\pi} \\sum_{n=1}^{\\infty} \\frac{(-1)^{n+1}+1}{n}sin\\left(\\frac{n \\pi x}{L}\\right) \\frac{sinh(n \\pi y /L)}{sinh(n \\pi W / L)} $$\n",
    "\n",
    "\n",
    "\n"
   ]
  },
  {
   "cell_type": "code",
   "execution_count": 33,
   "id": "c6ed575a",
   "metadata": {},
   "outputs": [],
   "source": [
    "def theta(x, y, L, W):\n",
    "    suma = 0.\n",
    "    for i in range(1, 90):\n",
    "        n = float(i)\n",
    "        suma = suma + ((-1.)**(n + 1) + 1.0)/n * np.sin(n * np.pi * x / L) * np.sinh(n * np.pi * y / L) / (np.sinh\\\n",
    "        (n * np.pi * W / L))\n",
    "    return suma * 2.0 / np.pi"
   ]
  },
  {
   "cell_type": "code",
   "execution_count": 34,
   "id": "3cd273d0",
   "metadata": {},
   "outputs": [],
   "source": [
    "W = 1.\n",
    "L = 1.\n",
    "x = np.linspace(0., L, 40)\n",
    "y = np.linspace(0., W, 40)\n",
    "\n",
    "X, Y = np.meshgrid(x, y)\n",
    "\n",
    "Theta = theta(X, Y, L, W)"
   ]
  },
  {
   "cell_type": "code",
   "execution_count": 35,
   "id": "6edfb7bf",
   "metadata": {},
   "outputs": [
    {
     "data": {
      "text/plain": [
       "(0.0, 1.0, 0.0, 1.0)"
      ]
     },
     "execution_count": 35,
     "metadata": {},
     "output_type": "execute_result"
    },
    {
     "data": {
      "image/png": "[encoded data removed]",
      "text/plain": [
       "<Figure size 640x480 with 2 Axes>"
      ]
     },
     "metadata": {},
     "output_type": "display_data"
    }
   ],
   "source": [
    "plt.contourf(X, Y, Theta, cmap= \"jet\" )\n",
    "plt.colorbar(orientation = \"vertical\")\n",
    "plt.axis(\"equal\")  \n",
    "plt.axis(\"off\")"
   ]
  },
  {
   "cell_type": "code",
   "execution_count": 36,
   "id": "b4c0d8f1",
   "metadata": {},
   "outputs": [
    {
     "name": "stdout",
     "output_type": "stream",
     "text": [
      "0.00011764120520979206\n"
     ]
    }
   ],
   "source": [
    "phi_exact = np.zeros_like(c.phi)\n",
    "\n",
    "for i in range(len(c.phi)):\n",
    "    phi_exact[i] = theta(c.xc[i], c.yc[i], L, W)\n",
    "\n",
    "#mean squared error\n",
    "MSE = np.mean(np.square(phi_exact - c.phi))\n",
    "\n",
    "print(MSE)"
   ]
  }
 ],
 "metadata": {
  "kernelspec": {
   "display_name": "entornogpu",
   "language": "python",
   "name": "entornogpu"
  },
  "language_info": {
   "codemirror_mode": {
    "name": "ipython",
    "version": 3
   },
   "file_extension": ".py",
   "mimetype": "text/x-python",
   "name": "python",
   "nbconvert_exporter": "python",
   "pygments_lexer": "ipython3",
   "version": "3.7.0"
  }
 },
 "nbformat": 4,
 "nbformat_minor": 5
}
