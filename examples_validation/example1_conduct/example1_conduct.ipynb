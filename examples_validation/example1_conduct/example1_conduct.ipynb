{
 "cells": [
  {
   "cell_type": "markdown",
   "id": "93b416ac",
   "metadata": {},
   "source": [
    "# Steady Conduction with Heat Generation (Example 1)\n"
   ]
  },
  {
   "cell_type": "code",
   "execution_count": 9,
   "id": "f21eb849",
   "metadata": {},
   "outputs": [],
   "source": [
    "import numpy as np\n",
    "import pyconduct as pyc\n",
    "from numba import jit\n",
    "from scipy.interpolate import griddata\n",
    "import matplotlib.pyplot as plt"
   ]
  },
  {
   "cell_type": "code",
   "execution_count": 10,
   "id": "25c13eed",
   "metadata": {},
   "outputs": [],
   "source": [
    "c = pyc.PyConduct()"
   ]
  },
  {
   "cell_type": "code",
   "execution_count": 11,
   "id": "5a7ea1d3",
   "metadata": {},
   "outputs": [],
   "source": [
    "c.lx = 1.\n",
    "c.ly = 1.\n",
    "c.ncvx = 5\n",
    "c.ncvy = 5\n",
    "c.set_default()"
   ]
  },
  {
   "cell_type": "code",
   "execution_count": 12,
   "id": "035a424e",
   "metadata": {},
   "outputs": [],
   "source": [
    "t0 = 0\n",
    "c.phi[:] = t0\n",
    "c.timeEnd = 1.\n",
    "c.dt = 1."
   ]
  },
  {
   "cell_type": "code",
   "execution_count": 13,
   "id": "91c0f8f4",
   "metadata": {},
   "outputs": [],
   "source": [
    "c.meshing()"
   ]
  },
  {
   "cell_type": "code",
   "execution_count": 14,
   "id": "99796b78",
   "metadata": {},
   "outputs": [],
   "source": [
    "@jit\n",
    "def gammaUSER(t, xc, yc):\n",
    "    gam = 1.\n",
    "    return gam\n",
    "\n",
    "@jit\n",
    "def lambUSER(t, xc, yc):\n",
    "    lamb = 1.\n",
    "    return lamb"
   ]
  },
  {
   "cell_type": "markdown",
   "id": "28cf24c1",
   "metadata": {},
   "source": [
    "The following function allows setting the source terms for the boundary conditions, defining the values of $S_c$ and $S_p$. The most commonly used conditions in heat transfer problems are provided as examples:\n",
    "\n",
    "Dirichlet (known temperature at the boundary):\n",
    "\n",
    "$$ S_C = T_B \\frac{k_B}{\\delta x_B} A_B \\quad \\quad S_P = -\\frac{k_B}{\\delta x_B} A_B $$\n",
    "\n",
    "Newman (known heat flux):\n",
    "\n",
    "$$ S_C = q_B A_B \\,  \\quad \\quad S_P = 0 $$\n",
    "\n",
    "Robin (convection):\n",
    "\n",
    "$$ S_C = \\left(\\frac{h_B \\frac{k_B}{\\delta x_B}}{h_B + \\frac{k_B}{\\delta x_B}}\\right) T_{\\infty} A_B \\quad \\quad S_P = -\\left(\\frac{h_B \\frac{k_B}{\\delta x_B}}{h_B +\\frac{k_B}{\\delta x_B}}\\right) A_B $$\n",
    "\n",
    "The input variables of the function are:\n",
    "\n",
    "- b: edge index\n",
    "    - b == 1: bottom edge,\n",
    "    - b == 2: right edge,\n",
    "    - b == 3: top edge, and\n",
    "    - b == 4: left edge.\n",
    "- c: cell index\n",
    "- f: face index\n",
    "- i: connectivity index\n",
    "- xf, yf: face center node coordinates\n",
    "- timer: time\n",
    "- $\\Gamma$, $k_B$: gamma[c], diffusion coefficient\n",
    "- $\\lambda$: lamb\n",
    "- Node distance from internal node to the edge $\\delta x$: ndist[i], dx\n",
    "- Cell volume $V$: cvol[c]\n",
    "- Volume-edge interface area $A_B$: af[f], area"
   ]
  },
  {
   "cell_type": "code",
   "execution_count": 15,
   "id": "6cc6d6f8",
   "metadata": {},
   "outputs": [],
   "source": [
    "@jit\n",
    "def sourcesBound(b, c, f, i, ndist, cvol, af, gamma, lamb, xf, yf, timer):\n",
    "    \n",
    "    gam = gamma[c]\n",
    "    dx = ndist[i]\n",
    "    vol = cvol[c]\n",
    "    area = af[f]\n",
    "\n",
    "    tw = 0.\n",
    "   \n",
    "    if(b == 1):    #- 1: S\n",
    "        scb = tw * gam / dx * area\n",
    "        spb = - gam / dx * area\n",
    "        \n",
    "    elif(b == 2):  #- 2: E\n",
    "        scb = tw * gam / dx * area\n",
    "        spb = - gam / dx * area\n",
    "        \n",
    "    elif(b == 3):  #- 3: N\n",
    "        scb = tw * gam / dx * area\n",
    "        spb = - gam / dx * area\n",
    "        \n",
    "    elif(b == 4):  #- 4: W\n",
    "        scb = tw * gam / dx * area\n",
    "        spb = - gam / dx * area\n",
    "        \n",
    "    else:\n",
    "        scb = 0.\n",
    "        spb = 0.\n",
    "        \n",
    "    return scb, spb\n"
   ]
  },
  {
   "cell_type": "code",
   "execution_count": 16,
   "id": "51f0f191",
   "metadata": {},
   "outputs": [],
   "source": [
    "@jit\n",
    "def sourcesVol(c, vol, phi, xc, yc, timer):\n",
    "    scv = 5. * vol\n",
    "    spv = 0.\n",
    "    return scv, spv\n",
    "\n",
    "@jit              \n",
    "def unsteadySources(phi, phi1, phi2, lamb, dt, cvol, c, titer):\n",
    "    #vol = cvol[c]\n",
    "    #Euler\n",
    "    #ap0 = lamb[c] / dt * vol\n",
    "    #apts = -ap0 \n",
    "    #acts = ap0 * phi1[c]\n",
    "    return 0,0  #apts, acts"
   ]
  },
  {
   "cell_type": "markdown",
   "id": "98d42e57",
   "metadata": {},
   "source": [
    "The names of the user-created functions mentioned above should be provided to the PyConduct class; otherwise, default internal functions will be executed."
   ]
  },
  {
   "cell_type": "code",
   "execution_count": 17,
   "id": "8dc1af37",
   "metadata": {},
   "outputs": [],
   "source": [
    "c.gammaFunction = gammaUSER\n",
    "c.lambFunction = lambUSER\n",
    "c.unsteadySourcesFunction = unsteadySources\n",
    "c.sourcesVolFunction = sourcesVol\n",
    "c.sourcesBoundFunction = sourcesBound"
   ]
  },
  {
   "cell_type": "code",
   "execution_count": 18,
   "id": "cac8727f",
   "metadata": {},
   "outputs": [],
   "source": [
    "c.sol = 2\n",
    "c.reportBlackW = 1\n",
    "c.reportContour = 1"
   ]
  },
  {
   "cell_type": "markdown",
   "id": "e8912d4a",
   "metadata": {},
   "source": [
    "Start the simulation with the run_simulation() method of the class.\n",
    "\n",
    "*PyConduct uses Numba to accelerate the calculation. Python is an interpreted and slow language for scientific computation. Numba is a just-in-time (JIT) compiler for Python that aims to accelerate numerical computations. When Numba encounters a decorated function, it needs to compile it before executing it. This incurs additional time for compilation during the first execution. However, once the function is compiled, subsequent executions will be much faster since there is no need to recompile it. Therefore, the first execution may be slower, but subsequent executions will benefit from the acceleration provided by Numba.*"
   ]
  },
  {
   "cell_type": "code",
   "execution_count": 19,
   "id": "c9f49cc9",
   "metadata": {},
   "outputs": [
    {
     "data": {
      "image/png": "[encoded data removed]",
      "text/plain": [
       "<Figure size 640x480 with 2 Axes>"
      ]
     },
     "metadata": {},
     "output_type": "display_data"
    },
    {
     "name": "stdout",
     "output_type": "stream",
     "text": [
      "time = 1.0  iter_t = 1  nl_iter = 1  errNl = 0.0\n",
      "calculation complete\n"
     ]
    }
   ],
   "source": [
    "c.run_simulation()"
   ]
  },
  {
   "cell_type": "code",
   "execution_count": 20,
   "id": "1008dfa6",
   "metadata": {},
   "outputs": [
    {
     "data": {
      "image/png": "[encoded data removed]",
      "text/plain": [
       "<Figure size 640x480 with 2 Axes>"
      ]
     },
     "metadata": {},
     "output_type": "display_data"
    },
    {
     "name": "stdout",
     "output_type": "stream",
     "text": [
      "calculation complete\n"
     ]
    }
   ],
   "source": [
    "c.lx = 1.\n",
    "c.ly = 1.\n",
    "c.ncvx = 40\n",
    "c.ncvy = 40\n",
    "c.set_default()\n",
    "t0 = 100.\n",
    "c.phi[:] = t0\n",
    "c.timeEnd = 2.\n",
    "c.dt = 1.\n",
    "c.meshing()\n",
    "c.run_simulation()"
   ]
  }
 ],
 "metadata": {
  "kernelspec": {
   "display_name": "entornogpu",
   "language": "python",
   "name": "entornogpu"
  },
  "language_info": {
   "codemirror_mode": {
    "name": "ipython",
    "version": 3
   },
   "file_extension": ".py",
   "mimetype": "text/x-python",
   "name": "python",
   "nbconvert_exporter": "python",
   "pygments_lexer": "ipython3",
   "version": "3.7.0"
  }
 },
 "nbformat": 4,
 "nbformat_minor": 5
}
